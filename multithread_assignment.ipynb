{
 "cells": [
  {
   "cell_type": "code",
   "execution_count": 35,
   "id": "c9ab4287-26d1-41c8-941b-c8d95826a087",
   "metadata": {},
   "outputs": [
    {
     "data": {
      "text/plain": [
       "''"
      ]
     },
     "execution_count": 35,
     "metadata": {},
     "output_type": "execute_result"
    }
   ],
   "source": [
    "#ans1\n",
    "\n",
    "\"\"\"\n",
    "Multithreading is a way of achieving multitasking.In multithreading, the concept of threads is used.\n",
    "Multithreading is defined as the ability of a processor to execute multiple threads concurrently. In a simple, single-core CPU, \n",
    "it is achieved using frequent switching between threads. This is termed context switching.\n",
    "\"\"\"\n",
    "\"\"\"\n",
    "Multithreading allows many parts of a program to run simultaneously. These parts are referred to as threads,\n",
    "and they are lightweight processes that are available within the process. As a result, multithreading \n",
    "increases CPU utilization through multitasking.\n",
    "\"\"\"\n",
    "\"\"\"\n",
    "To use multithreading, we need to import the threading module in Python Program. A start() method \n",
    "is used to initiate the activity of a thread.\n",
    "\"\"\"\n",
    "\"\"\"\"\"\""
   ]
  },
  {
   "cell_type": "code",
   "execution_count": 36,
   "id": "0a4c3e3c-41a4-41cd-bd4d-b920d4ea949e",
   "metadata": {},
   "outputs": [
    {
     "data": {
      "text/plain": [
       "''"
      ]
     },
     "execution_count": 36,
     "metadata": {},
     "output_type": "execute_result"
    }
   ],
   "source": [
    "#ans2\n",
    "\"\"\"\n",
    "Threading module is used for creating, controlling and managing threads in python. \n",
    "\"\"\"\n",
    "\n",
    "\"\"\"\n",
    "threading.active_count() Function\n",
    "This function returns the number of Thread objects currently alive.\n",
    "\n",
    "\"\"\"\n",
    "\"\"\"\n",
    "threading.current_thread()\n",
    "This function will return the current Thread object, corresponding to the caller's thread\n",
    "of control(which is in the control of caller currently). \n",
    "If the caller's thread of control was not created through the threading module(for example the main thread), \n",
    "then a dummy thread object with limited functionality is returned.\n",
    "\n",
    "\"\"\"\n",
    "\"\"\"\n",
    "threading.enumerate()\n",
    "This method returns a list of all Thread objects currently alive.\n",
    "\"\"\"\n",
    "\"\"\"\"\"\""
   ]
  },
  {
   "cell_type": "code",
   "execution_count": 37,
   "id": "2ff75eff-0275-454a-b4cb-8331221cb2b8",
   "metadata": {},
   "outputs": [
    {
     "data": {
      "text/plain": [
       "''"
      ]
     },
     "execution_count": 37,
     "metadata": {},
     "output_type": "execute_result"
    }
   ],
   "source": [
    "#ans3\n",
    "\"\"\"\n",
    "\n",
    "run() − The run() method is the entry point for a thread.\n",
    "\n",
    "start() − The start() method starts a thread by calling the run method.\n",
    "\n",
    "join() − The join() waits for threads to terminate.\n",
    "\n",
    "isAlive() − The isAlive() method checks whether a thread is still executing.\n",
    "\n",
    "\"\"\"\n",
    "\"\"\"\"\"\""
   ]
  },
  {
   "cell_type": "code",
   "execution_count": 38,
   "id": "aaab1773-1faa-4906-8c83-27772898e136",
   "metadata": {},
   "outputs": [],
   "source": [
    "#ans4\n",
    "import threading\n",
    "\n",
    "def print_square(num):\n",
    "    print(\"Square: {}\" .format(num * num))\n",
    "\n",
    "def print_cube(num):\n",
    "    print(\"Cube:{}\".format(num*num*num))\n",
    "\n",
    "if __name__==\"__main__\":\n",
    "    t1=[threading.Thread(target=print_square,args=(i,)) for i in range(1,11)]\n",
    "    t2 =[threading.Thread(target=print_cube, args=(i,)) for i in range(1,5)]\n",
    "     "
   ]
  },
  {
   "cell_type": "code",
   "execution_count": 39,
   "id": "11a9e496-8f80-440e-abeb-9a3c55f6f183",
   "metadata": {},
   "outputs": [
    {
     "name": "stdout",
     "output_type": "stream",
     "text": [
      "Square: 1\n",
      "Square: 4\n",
      "Square: 9\n",
      "Square: 16\n",
      "Square: 25\n",
      "Square: 36\n",
      "Square: 49\n",
      "Square: 64\n",
      "Square: 81\n",
      "Square: 100\n",
      "Cube:1\n",
      "Cube:8\n",
      "Cube:27\n",
      "Cube:64\n"
     ]
    }
   ],
   "source": [
    "for t in t1:\n",
    "    t.start()\n",
    "for t in t2:\n",
    "    t.start()"
   ]
  },
  {
   "cell_type": "code",
   "execution_count": 40,
   "id": "97f9e5fd-93d5-44d5-a91e-b1c4b44f6dcc",
   "metadata": {},
   "outputs": [
    {
     "data": {
      "text/plain": [
       "''"
      ]
     },
     "execution_count": 40,
     "metadata": {},
     "output_type": "execute_result"
    }
   ],
   "source": [
    "#ans5\n",
    "\"\"\"\n",
    "ADVANTAGES----\n",
    "\n",
    "1.Decreased cost of maintainance.\n",
    "2.Better use of CPU resource.\n",
    "3.Simultaneous and parallelized occurrence of tasks.\n",
    "4.Enhanced performance by decreased development time.\n",
    "5.Multithreading allows better utilization of system resources by keeping the CPU busy \n",
    "  while waiting for I/O operations or other tasks to complete.\n",
    "\n",
    "\"\"\"\n",
    "\"\"\"\n",
    "DISADVANTAGES----\n",
    "\n",
    "1.Multithreading adds complexity to the program, making it more difficult to design, implement.\n",
    "2.Context switching between threads consumes CPU time and resources, which can lead to \n",
    "    performance degradation if not managed efficiently.\n",
    "    \n",
    "\"\"\"\n",
    "\"\"\"\"\"\"\n"
   ]
  },
  {
   "cell_type": "code",
   "execution_count": 41,
   "id": "ee01c864-ef59-4fe0-bde6-502f7718ad53",
   "metadata": {},
   "outputs": [
    {
     "data": {
      "text/plain": [
       "''"
      ]
     },
     "execution_count": 41,
     "metadata": {},
     "output_type": "execute_result"
    }
   ],
   "source": [
    "#ans 6\n",
    "\"\"\"\n",
    "Deadlock--- Two threads hold locks on different resources, each waiting indefinitely for the other to release its lock. \n",
    "Race condition--- Two (or more) threads alter the state of a shared resource concurrently, leaving it in an unpredictable state.\n",
    "\n",
    "\"\"\"\n",
    "\"\"\"\"\"\""
   ]
  },
  {
   "cell_type": "code",
   "execution_count": null,
   "id": "46594bfa-782f-467b-975c-ef9ba0b7ad11",
   "metadata": {},
   "outputs": [],
   "source": []
  },
  {
   "cell_type": "code",
   "execution_count": null,
   "id": "3a2c54d9-b4fd-4224-a013-9cda93824589",
   "metadata": {},
   "outputs": [],
   "source": []
  },
  {
   "cell_type": "code",
   "execution_count": null,
   "id": "37a41a99-a394-429c-b68e-5eee446a7a7d",
   "metadata": {},
   "outputs": [],
   "source": []
  }
 ],
 "metadata": {
  "kernelspec": {
   "display_name": "Python 3 (ipykernel)",
   "language": "python",
   "name": "python3"
  },
  "language_info": {
   "codemirror_mode": {
    "name": "ipython",
    "version": 3
   },
   "file_extension": ".py",
   "mimetype": "text/x-python",
   "name": "python",
   "nbconvert_exporter": "python",
   "pygments_lexer": "ipython3",
   "version": "3.10.8"
  }
 },
 "nbformat": 4,
 "nbformat_minor": 5
}
